{
  "nbformat": 4,
  "nbformat_minor": 0,
  "metadata": {
    "colab": {
      "name": "ZhuoWen-SharangWakankar-Project3.ipynb",
      "provenance": [],
      "collapsed_sections": [],
      "machine_shape": "hm"
    },
    "kernelspec": {
      "name": "python3",
      "display_name": "Python 3"
    },
    "language_info": {
      "codemirror_mode": {
        "name": "ipython",
        "version": 3
      },
      "file_extension": ".py",
      "mimetype": "text/x-python",
      "name": "python",
      "nbconvert_exporter": "python",
      "pygments_lexer": "ipython3",
      "version": "3.7.4"
    },
    "accelerator": "GPU"
  },
  "cells": [
    {
      "cell_type": "markdown",
      "metadata": {
        "colab_type": "text",
        "id": "Tbfz3zSXBt3H"
      },
      "source": [
        "## <p style=\"text-align: center;\">MIS 284N - Big Data and Distributed Programming</p>\n",
        "## <p style=\"text-align: center;\">Project 3 - Machine Learning using Tensorflow and Google Colab</p>\n",
        "## <p style=\"text-align: center;\">Total points: 100</p>\n",
        "## <p style=\"text-align: center;\">Due: Sunday, October 20th submitted via Canvas by 11:59 pm</p>\n",
        "\n",
        "Your homework should be written in a **Jupyter notebook**. You may work in groups of two if you wish. Only one student per team needs to submit the assignment on Canvas.  But be sure to include name and UTID for both students.\n",
        "\n",
        "Also, please make sure your code runs and the graphics (and anything else) are displayed in your notebook before submitting. (%matplotlib inline)\n",
        "\n",
        "This project is about giving exposure about Tensorflow, its usage, Cloud services and help us in understanding the time taken to run computation on CPU and GPU. \n",
        "\n",
        "In this Project, we will work with CIFAR10 image dataset. \n",
        "The starter code to download the dataste using keras is given below. \n",
        "You should run this project on Google Colab. You would be using CPU, GPU.\n",
        "Use tensorflow version 2.0. \n",
        "\n",
        "# In every line of code, please write a comment to briefly explain what that line is doing.\n",
        "Your grades will be based on your understanding of the code you write! \n",
        "\n",
        "Note: The code you write should be your own!"
      ]
    },
    {
      "cell_type": "markdown",
      "metadata": {
        "id": "RkoIhNRJZIIH",
        "colab_type": "text"
      },
      "source": [
        "## Zhuo Wen - zw6289\n",
        "## Sharang Wakankar - sw37284"
      ]
    },
    {
      "cell_type": "markdown",
      "metadata": {
        "colab_type": "text",
        "id": "RnHTzAuvxxQT"
      },
      "source": [
        "# Task 1\n",
        "Convert the features in a form that can be given as input to tensorflow library/functions\n",
        "\n",
        "In this task you will perform data augmentation. That is, pre-process the data to make the model more robust. Most common data augmentation techniques are rotation, flips and histogram equalization. \n",
        "You can choose an augmentation technique of your choice. "
      ]
    },
    {
      "cell_type": "code",
      "metadata": {
        "id": "7v9jQhbGKP-B",
        "colab_type": "code",
        "outputId": "12e51dea-4f15-432b-eace-b3e6fb7f4b19",
        "colab": {
          "base_uri": "https://localhost:8080/",
          "height": 34
        }
      },
      "source": [
        "# import packages and libraries for project\n",
        "import tensorflow as tf\n",
        "from tensorflow import keras\n",
        "from keras.preprocessing.image import ImageDataGenerator\n",
        "import matplotlib.pyplot as plt\n",
        "import numpy as np"
      ],
      "execution_count": 0,
      "outputs": [
        {
          "output_type": "stream",
          "text": [
            "Using TensorFlow backend.\n"
          ],
          "name": "stderr"
        }
      ]
    },
    {
      "cell_type": "code",
      "metadata": {
        "id": "kZmI53egIp1F",
        "colab_type": "code",
        "outputId": "d0e1c409-604a-45b5-95ef-d4140f36efa4",
        "colab": {
          "base_uri": "https://localhost:8080/",
          "height": 34
        }
      },
      "source": [
        "print(tf.__version__)\n",
        "# GPU device is not found if tensorflow version is 2.0\n",
        "# use tf version 1.15"
      ],
      "execution_count": 0,
      "outputs": [
        {
          "output_type": "stream",
          "text": [
            "1.15.0-rc3\n"
          ],
          "name": "stdout"
        }
      ]
    },
    {
      "cell_type": "code",
      "metadata": {
        "id": "CSuVG6nTAprr",
        "colab_type": "code",
        "outputId": "e091c5c7-a448-4bae-a6a2-64230822fbce",
        "colab": {
          "base_uri": "https://localhost:8080/",
          "height": 34
        }
      },
      "source": [
        "# verify that GPU device is available\n",
        "device_name = tf.test.gpu_device_name()\n",
        "if device_name != '/device:GPU:0':\n",
        "  raise SystemError('GPU device not found')\n",
        "print('Found GPU at: {}'.format(device_name))"
      ],
      "execution_count": 0,
      "outputs": [
        {
          "output_type": "stream",
          "text": [
            "Found GPU at: /device:GPU:0\n"
          ],
          "name": "stdout"
        }
      ]
    },
    {
      "cell_type": "code",
      "metadata": {
        "id": "muAf1DvhtnZx",
        "colab_type": "code",
        "outputId": "eec0c829-6c78-478f-a9f6-a69b96777336",
        "colab": {
          "base_uri": "https://localhost:8080/",
          "height": 102
        }
      },
      "source": [
        "from keras.datasets import cifar10\n",
        "\n",
        "(x_train, y_train), (x_test, y_test) = cifar10.load_data() # load the cifar10 data and split into test and train\n",
        "print('x_train shape:', x_train.shape)\n",
        "\n",
        "#check number of samples and the shape of the data\n",
        "print(x_train.shape[0], 'train samples')\n",
        "print(x_test.shape[0], 'test samples')"
      ],
      "execution_count": 0,
      "outputs": [
        {
          "output_type": "stream",
          "text": [
            "Downloading data from https://www.cs.toronto.edu/~kriz/cifar-10-python.tar.gz\n",
            "170500096/170498071 [==============================] - 2s 0us/step\n",
            "x_train shape: (50000, 32, 32, 3)\n",
            "50000 train samples\n",
            "10000 test samples\n"
          ],
          "name": "stdout"
        }
      ]
    },
    {
      "cell_type": "code",
      "metadata": {
        "id": "VJzsdmqsBtX2",
        "colab_type": "code",
        "outputId": "d216252e-50ed-4847-f8a7-18435ef9d8a9",
        "colab": {
          "base_uri": "https://localhost:8080/",
          "height": 269
        }
      },
      "source": [
        "# show the first nine images from training data\n",
        "for i in range(9):\n",
        "\t# define subplot\n",
        "\tplt.subplot(330 + 1 + i)\n",
        "\t# plot raw pixel data\n",
        "\tplt.imshow(x_train[i])\n",
        "# show the figure\n",
        "plt.show()"
      ],
      "execution_count": 0,
      "outputs": [
        {
          "output_type": "display_data",
          "data": {
            "image/png": "[encoded data removed]",
            "text/plain": [
              "<Figure size 432x288 with 9 Axes>"
            ]
          },
          "metadata": {
            "tags": []
          }
        }
      ]
    },
    {
      "cell_type": "code",
      "metadata": {
        "id": "9M_mURnZtKlg",
        "colab_type": "code",
        "colab": {}
      },
      "source": [
        "datagen = ImageDataGenerator() # image preprocessing class used for data augmentation\n",
        "x_train_transform = []  # to hold the new transformed training data\n",
        "\n",
        "# create new training data with the augmentation applied on original training data\n",
        "for i in range(len(x_train)):\n",
        "  x_train_image = datagen.apply_transform(x_train[i], {'flip_horizontal':True})  # randomly flip images horizontally\n",
        "  x_train_transform.append(x_train_image) # add the flipped images to the empty list"
      ],
      "execution_count": 0,
      "outputs": []
    },
    {
      "cell_type": "code",
      "metadata": {
        "id": "uygLo-xQtOqC",
        "colab_type": "code",
        "outputId": "978a54a7-5711-499a-88f8-e2d56dcab61e",
        "colab": {
          "base_uri": "https://localhost:8080/",
          "height": 269
        }
      },
      "source": [
        "# show the first nine images from flipped images training data \n",
        "for i in range(9):\n",
        "\t# define subplot\n",
        "\tplt.subplot(330 + 1 + i)\n",
        "\t# plot raw pixel data\n",
        "\tplt.imshow(x_train_transform[i])\n",
        "# show the figure\n",
        "plt.show()"
      ],
      "execution_count": 0,
      "outputs": [
        {
          "output_type": "display_data",
          "data": {
            "image/png": "[encoded data removed]",
            "text/plain": [
              "<Figure size 432x288 with 9 Axes>"
            ]
          },
          "metadata": {
            "tags": []
          }
        }
      ]
    },
    {
      "cell_type": "code",
      "metadata": {
        "id": "AwQOiy-EOxOG",
        "colab_type": "code",
        "outputId": "d811fe30-08e2-4f34-9397-be7e167b00b4",
        "colab": {
          "base_uri": "https://localhost:8080/",
          "height": 34
        }
      },
      "source": [
        "new_x_train = np.append(x_train, x_train_transform, axis = 0) # combine original training data with the augmented data\n",
        "new_x_train.shape"
      ],
      "execution_count": 0,
      "outputs": [
        {
          "output_type": "execute_result",
          "data": {
            "text/plain": [
              "(100000, 32, 32, 3)"
            ]
          },
          "metadata": {
            "tags": []
          },
          "execution_count": 6
        }
      ]
    },
    {
      "cell_type": "code",
      "metadata": {
        "id": "rhodkYbDxb2G",
        "colab_type": "code",
        "outputId": "f2757279-bb22-4a19-ef1e-b7a3af55c32f",
        "colab": {
          "base_uri": "https://localhost:8080/",
          "height": 34
        }
      },
      "source": [
        "new_y_train = np.append(y_train, y_train, axis = 0) # combine original training data twice to match the number of samples in new x training data\n",
        "new_y_train.shape"
      ],
      "execution_count": 0,
      "outputs": [
        {
          "output_type": "execute_result",
          "data": {
            "text/plain": [
              "(100000, 1)"
            ]
          },
          "metadata": {
            "tags": []
          },
          "execution_count": 7
        }
      ]
    },
    {
      "cell_type": "markdown",
      "metadata": {
        "colab_type": "text",
        "id": "M6c8xzloyoUD"
      },
      "source": [
        "# Task 2\n",
        "Try to build a Neural Network model, train on the features and report the accuracy.\n",
        "Report your observations on the time taken on GPU and TPUs. \n",
        "\n",
        "\n",
        "\n",
        "1.   Create a CNN based model with 5 hidden layers and 100 hidden units each layer. \n",
        "2.   Create an LSTM based model with 2 hidden layers and 1024 hidden units in each layer. \n",
        "\n"
      ]
    },
    {
      "cell_type": "code",
      "metadata": {
        "id": "KwojUtDqK2Mj",
        "colab_type": "code",
        "colab": {}
      },
      "source": [
        "# create a CNN based model\n",
        "def create_model():\n",
        "  model = tf.keras.models.Sequential() # allows you to easily stack sequential layers of the network in order from input to output\n",
        "  \n",
        "  model.add(tf.keras.layers.BatchNormalization(input_shape=x_train.shape[1:]))  # use input shape 32,32,3\n",
        "  # 100 units, 5 X 5 is the size of the filter, use Exponential Linear Unit activation function \n",
        "  model.add(tf.keras.layers.Conv2D(100, (5, 5), padding='same', activation='elu')) \n",
        "  model.add(tf.keras.layers.MaxPooling2D(pool_size=(2, 2))) # add a 2D max pooling layer and specify the size of the pooling in the x and y directions\n",
        "  model.add(tf.keras.layers.Dropout(0.25)) # add a new Dropout layer between the input (or visible layer) and the first hidden layer\n",
        "  # The dropout rate is set to 25%, meaning 1 in 4 inputs will be randomly excluded from each update cycle\n",
        "\n",
        "  # identical logic for the below four layers\n",
        "  model.add(tf.keras.layers.BatchNormalization(input_shape=x_train.shape[1:]))\n",
        "  model.add(tf.keras.layers.Conv2D(100, (5, 5), padding='same', activation='elu'))\n",
        "  model.add(tf.keras.layers.MaxPooling2D(pool_size=(2, 2)))\n",
        "  model.add(tf.keras.layers.Dropout(0.25))\n",
        "\n",
        "  model.add(tf.keras.layers.BatchNormalization(input_shape=x_train.shape[1:]))\n",
        "  model.add(tf.keras.layers.Conv2D(100, (5, 5), padding='same', activation='elu'))\n",
        "  model.add(tf.keras.layers.MaxPooling2D(pool_size=(2, 2)))\n",
        "  model.add(tf.keras.layers.Dropout(0.25))\n",
        "  \n",
        "  model.add(tf.keras.layers.BatchNormalization(input_shape=x_train.shape[1:]))\n",
        "  model.add(tf.keras.layers.Conv2D(100, (5, 5), padding='same', activation='elu'))\n",
        "  model.add(tf.keras.layers.MaxPooling2D(pool_size=(2, 2)))\n",
        "  model.add(tf.keras.layers.Dropout(0.25))\n",
        "\n",
        "  model.add(tf.keras.layers.BatchNormalization(input_shape=x_train.shape[1:]))\n",
        "  model.add(tf.keras.layers.Conv2D(100, (5, 5), padding='same', activation='elu'))\n",
        "  model.add(tf.keras.layers.MaxPooling2D(pool_size=(2, 2)))\n",
        "  model.add(tf.keras.layers.Dropout(0.25))\n",
        "\n",
        "\n",
        "  model.add(tf.keras.layers.Flatten()) # flatten the output from the convolutional layers to enter our fully connected layers\n",
        "  model.add(tf.keras.layers.Dense(256)) # declare fully connected layers using Dense and specify the size\n",
        "  model.add(tf.keras.layers.Activation('elu'))\n",
        "  model.add(tf.keras.layers.Dropout(0.5))\n",
        "  model.add(tf.keras.layers.Dense(10)) # dense to number of labels\n",
        "  model.add(tf.keras.layers.Activation('softmax')) \n",
        "  \n",
        "  return model"
      ],
      "execution_count": 0,
      "outputs": []
    },
    {
      "cell_type": "code",
      "metadata": {
        "id": "A6-lj34Qqi0L",
        "colab_type": "code",
        "outputId": "12c7f144-4734-46da-8669-2b586ac03c0e",
        "colab": {
          "base_uri": "https://localhost:8080/",
          "height": 88
        }
      },
      "source": [
        "model = create_model() # create the model defined above"
      ],
      "execution_count": 0,
      "outputs": [
        {
          "output_type": "stream",
          "text": [
            "WARNING:tensorflow:From /usr/local/lib/python3.6/dist-packages/tensorflow_core/python/ops/resource_variable_ops.py:1630: calling BaseResourceVariable.__init__ (from tensorflow.python.ops.resource_variable_ops) with constraint is deprecated and will be removed in a future version.\n",
            "Instructions for updating:\n",
            "If using Keras pass *_constraint arguments to layers.\n"
          ],
          "name": "stdout"
        }
      ]
    },
    {
      "cell_type": "code",
      "metadata": {
        "id": "E3PJkBilsWUS",
        "colab_type": "code",
        "colab": {}
      },
      "source": [
        "model.compile( \n",
        "    optimizer=tf.keras.optimizers.Adam(learning_rate=1e-3,), # use the Adam optimizer\n",
        "    loss='sparse_categorical_crossentropy',  # use the sparse categorical cross entropy for categorical class classification\n",
        "    metrics=['sparse_categorical_accuracy']) # only interested in accuracy as metric"
      ],
      "execution_count": 0,
      "outputs": []
    },
    {
      "cell_type": "code",
      "metadata": {
        "id": "ABQlj_Tq_yhj",
        "colab_type": "code",
        "outputId": "1ae0418d-6fdf-4371-bc51-3e642ecfd58c",
        "colab": {
          "base_uri": "https://localhost:8080/",
          "height": 411
        }
      },
      "source": [
        "# %%time\n",
        "import time\n",
        "t0 = time.time()\n",
        "model.fit(new_x_train, new_y_train, \n",
        "          batch_size=128, \n",
        "          epochs=10,\n",
        "          validation_data=(x_test, y_test)) # fit model using update x and y training data\n",
        "t1 = time.time()\n",
        "timeTaken = t1-t0\n",
        "print(\"time taken: \" + str(timeTaken) + \" seconds\")"
      ],
      "execution_count": 0,
      "outputs": [
        {
          "output_type": "stream",
          "text": [
            "Train on 100000 samples, validate on 10000 samples\n",
            "Epoch 1/10\n",
            "100000/100000 [==============================] - 44s 436us/sample - loss: 1.0958 - sparse_categorical_accuracy: 0.6101 - val_loss: 0.8241 - val_sparse_categorical_accuracy: 0.7071\n",
            "Epoch 2/10\n",
            "100000/100000 [==============================] - 43s 430us/sample - loss: 0.8248 - sparse_categorical_accuracy: 0.7146 - val_loss: 0.7284 - val_sparse_categorical_accuracy: 0.7446\n",
            "Epoch 3/10\n",
            "100000/100000 [==============================] - 43s 430us/sample - loss: 0.7079 - sparse_categorical_accuracy: 0.7576 - val_loss: 0.6006 - val_sparse_categorical_accuracy: 0.7933\n",
            "Epoch 4/10\n",
            "100000/100000 [==============================] - 43s 431us/sample - loss: 0.6326 - sparse_categorical_accuracy: 0.7839 - val_loss: 0.6109 - val_sparse_categorical_accuracy: 0.7880\n",
            "Epoch 5/10\n",
            "100000/100000 [==============================] - 43s 430us/sample - loss: 0.5756 - sparse_categorical_accuracy: 0.8028 - val_loss: 0.5897 - val_sparse_categorical_accuracy: 0.8008\n",
            "Epoch 6/10\n",
            "100000/100000 [==============================] - 43s 430us/sample - loss: 0.5341 - sparse_categorical_accuracy: 0.8187 - val_loss: 0.5860 - val_sparse_categorical_accuracy: 0.8051\n",
            "Epoch 7/10\n",
            "100000/100000 [==============================] - 43s 430us/sample - loss: 0.5046 - sparse_categorical_accuracy: 0.8277 - val_loss: 0.5149 - val_sparse_categorical_accuracy: 0.8269\n",
            "Epoch 8/10\n",
            "100000/100000 [==============================] - 43s 430us/sample - loss: 0.4715 - sparse_categorical_accuracy: 0.8396 - val_loss: 0.5177 - val_sparse_categorical_accuracy: 0.8253\n",
            "Epoch 9/10\n",
            "100000/100000 [==============================] - 43s 430us/sample - loss: 0.4471 - sparse_categorical_accuracy: 0.8482 - val_loss: 0.5145 - val_sparse_categorical_accuracy: 0.8308\n",
            "Epoch 10/10\n",
            "100000/100000 [==============================] - 43s 430us/sample - loss: 0.4255 - sparse_categorical_accuracy: 0.8558 - val_loss: 0.5267 - val_sparse_categorical_accuracy: 0.8288\n",
            "time taken: 430.86618661880493 seconds\n"
          ],
          "name": "stdout"
        }
      ]
    },
    {
      "cell_type": "markdown",
      "metadata": {
        "id": "aydb1D8UfJ0J",
        "colab_type": "text"
      },
      "source": [
        "## The time required to run 10 epochs on CNN model on CPU: 2024.59 seconds or approximately 33 min."
      ]
    },
    {
      "cell_type": "markdown",
      "metadata": {
        "id": "eSEo4e-LZWRr",
        "colab_type": "text"
      },
      "source": [
        "## The time required to run 10 epochs on CNN model on GPU: 430.87 seconds or approximately 7 min."
      ]
    },
    {
      "cell_type": "code",
      "metadata": {
        "id": "MQhLbyhA_-nd",
        "colab_type": "code",
        "outputId": "5e0853e3-638f-49ab-ee4f-bbb411de3082",
        "colab": {
          "base_uri": "https://localhost:8080/",
          "height": 68
        }
      },
      "source": [
        "scores = model.evaluate(x_test, y_test, verbose=1)\n",
        "print('Test loss:', scores[0])\n",
        "print('Test accuracy:', scores[1])"
      ],
      "execution_count": 0,
      "outputs": [
        {
          "output_type": "stream",
          "text": [
            "10000/10000 [==============================] - 3s 282us/sample - loss: 0.5267 - sparse_categorical_accuracy: 0.8288\n",
            "Test loss: 0.5267394819498062\n",
            "Test accuracy: 0.8288\n"
          ],
          "name": "stdout"
        }
      ]
    },
    {
      "cell_type": "markdown",
      "metadata": {
        "id": "P_z6-xas2AnM",
        "colab_type": "text"
      },
      "source": [
        "## The accuracy rate of cnn model after 5 epochs is about 82.9%."
      ]
    },
    {
      "cell_type": "code",
      "metadata": {
        "id": "UClkzijSR92m",
        "colab_type": "code",
        "colab": {}
      },
      "source": [
        "class_names = ['airplane','automobile','bird','cat','deer','dog','frog','horse','ship','truck'] # get the information on labels from cifar10 data website\n",
        "num_classes = len(class_names)\n",
        "new_y_train = keras.utils.to_categorical(new_y_train, num_classes)  # turn each y train value to a vector based on its index in the class_names \n",
        "y_test = keras.utils.to_categorical(y_test, num_classes) # turn each y test value to a vector based on the index in class_names array\n",
        "\n",
        "# normalize the value of pixel to something between 0 and 1\n",
        "new_x_train = new_x_train.astype('float32') / 255.0 \n",
        "x_test = x_test.astype('float32') / 255.0"
      ],
      "execution_count": 0,
      "outputs": []
    },
    {
      "cell_type": "code",
      "metadata": {
        "id": "fI62FuB4RK81",
        "colab_type": "code",
        "colab": {}
      },
      "source": [
        "# data reshaphing: flatten then reshape the x data to 3 dimensions so that it can be passed in the LSTM model\n",
        "new_x_train_lstm = np.asarray(new_x_train.flatten()).reshape(100000,1,3072)\n",
        "new_x_test_lstm = np.asarray(x_test.flatten()).reshape(10000,1,3072)"
      ],
      "execution_count": 0,
      "outputs": []
    },
    {
      "cell_type": "code",
      "metadata": {
        "id": "LYgZEEY62Hv_",
        "colab_type": "code",
        "outputId": "be944df3-6f15-4dad-e521-e1edc7b7abaf",
        "colab": {
          "base_uri": "https://localhost:8080/",
          "height": 34
        }
      },
      "source": [
        "new_x_train_lstm.shape"
      ],
      "execution_count": 0,
      "outputs": [
        {
          "output_type": "execute_result",
          "data": {
            "text/plain": [
              "(100000, 1, 3072)"
            ]
          },
          "metadata": {
            "tags": []
          },
          "execution_count": 19
        }
      ]
    },
    {
      "cell_type": "code",
      "metadata": {
        "id": "mfIpICNnJzUK",
        "colab_type": "code",
        "outputId": "ac118480-bd1d-4af5-f963-e62e30b7af4f",
        "colab": {
          "base_uri": "https://localhost:8080/",
          "height": 88
        }
      },
      "source": [
        "# build a LSTM model\n",
        "\n",
        "lstm_model = tf.keras.models.Sequential() # again use sequential model to stack layers\n",
        "# 1024 units, return sequence true: return one output for each input time step and provide a 3D array\n",
        "lstm_model.add(tf.keras.layers.LSTM(1024,input_shape=new_x_train_lstm.shape[1:],return_sequences=True)) \n",
        "\n",
        "lstm_model.add(tf.keras.layers.LSTM(1024))\n",
        "\n",
        "lstm_model.add(keras.layers.Dense(10, activation='sigmoid')) # 10 labels in the first layer and use sigmoid function\n",
        "\n",
        "lstm_model.compile(loss='binary_crossentropy',\n",
        "            optimizer='adam', # adam optimizer\n",
        "            metrics=['accuracy']) # only get accuracy metric from model"
      ],
      "execution_count": 0,
      "outputs": [
        {
          "output_type": "stream",
          "text": [
            "WARNING:tensorflow:From /usr/local/lib/python3.6/dist-packages/tensorflow_core/python/ops/nn_impl.py:183: where (from tensorflow.python.ops.array_ops) is deprecated and will be removed in a future version.\n",
            "Instructions for updating:\n",
            "Use tf.where in 2.0, which has the same broadcast rule as np.where\n"
          ],
          "name": "stdout"
        }
      ]
    },
    {
      "cell_type": "code",
      "metadata": {
        "id": "MewBz81L-EeP",
        "colab_type": "code",
        "outputId": "7a3f8598-ba09-48b5-ea4d-c177004b8b96",
        "colab": {
          "base_uri": "https://localhost:8080/",
          "height": 259
        }
      },
      "source": [
        "lstm_model.summary()"
      ],
      "execution_count": 0,
      "outputs": [
        {
          "output_type": "stream",
          "text": [
            "Model: \"sequential_1\"\n",
            "_________________________________________________________________\n",
            "Layer (type)                 Output Shape              Param #   \n",
            "=================================================================\n",
            "lstm (LSTM)                  (None, 1, 1024)           16781312  \n",
            "_________________________________________________________________\n",
            "lstm_1 (LSTM)                (None, 1024)              8392704   \n",
            "_________________________________________________________________\n",
            "dense_2 (Dense)              (None, 10)                10250     \n",
            "=================================================================\n",
            "Total params: 25,184,266\n",
            "Trainable params: 25,184,266\n",
            "Non-trainable params: 0\n",
            "_________________________________________________________________\n"
          ],
          "name": "stdout"
        }
      ]
    },
    {
      "cell_type": "code",
      "metadata": {
        "id": "fjaQ5z1WKwYK",
        "colab_type": "code",
        "outputId": "6b5d26ad-7a39-4ea9-e9ea-0200b9411460",
        "colab": {
          "base_uri": "https://localhost:8080/",
          "height": 391
        }
      },
      "source": [
        "## fit the lstm model using the reshaped training data\n",
        "import time\n",
        "t0 = time.time()\n",
        "lstm_model.fit(new_x_train_lstm, new_y_train, batch_size=100, epochs=10,validation_data=(new_x_test_lstm, y_test))\n",
        "t1 = time.time()\n",
        "timeTaken = t1-t0\n",
        "print(\"time taken: \" + str(timeTaken) + \" seconds\")"
      ],
      "execution_count": 0,
      "outputs": [
        {
          "output_type": "stream",
          "text": [
            "Train on 100000 samples, validate on 10000 samples\n",
            "Epoch 1/10\n",
            "100000/100000 [==============================] - 35s 350us/sample - loss: 0.2318 - acc: 0.9118 - val_loss: 0.2356 - val_acc: 0.9114\n",
            "Epoch 2/10\n",
            "100000/100000 [==============================] - 35s 350us/sample - loss: 0.2282 - acc: 0.9130 - val_loss: 0.2292 - val_acc: 0.9131\n",
            "Epoch 3/10\n",
            "100000/100000 [==============================] - 35s 348us/sample - loss: 0.2251 - acc: 0.9140 - val_loss: 0.2315 - val_acc: 0.9121\n",
            "Epoch 4/10\n",
            "100000/100000 [==============================] - 35s 349us/sample - loss: 0.2222 - acc: 0.9151 - val_loss: 0.2227 - val_acc: 0.9151\n",
            "Epoch 5/10\n",
            "100000/100000 [==============================] - 35s 349us/sample - loss: 0.2207 - acc: 0.9155 - val_loss: 0.2249 - val_acc: 0.9148\n",
            "Epoch 6/10\n",
            "100000/100000 [==============================] - 35s 349us/sample - loss: 0.2180 - acc: 0.9163 - val_loss: 0.2239 - val_acc: 0.9142\n",
            "Epoch 7/10\n",
            "100000/100000 [==============================] - 35s 352us/sample - loss: 0.2162 - acc: 0.9170 - val_loss: 0.2225 - val_acc: 0.9156\n",
            "Epoch 8/10\n",
            "100000/100000 [==============================] - 35s 352us/sample - loss: 0.2146 - acc: 0.9175 - val_loss: 0.2237 - val_acc: 0.9141\n",
            "Epoch 9/10\n",
            "100000/100000 [==============================] - 35s 352us/sample - loss: 0.2133 - acc: 0.9177 - val_loss: 0.2221 - val_acc: 0.9151\n",
            "Epoch 10/10\n",
            "100000/100000 [==============================] - 35s 352us/sample - loss: 0.2116 - acc: 0.9183 - val_loss: 0.2234 - val_acc: 0.9140\n",
            "time taken: 350.29446721076965 seconds\n"
          ],
          "name": "stdout"
        }
      ]
    },
    {
      "cell_type": "markdown",
      "metadata": {
        "id": "_GbCPHoffYcV",
        "colab_type": "text"
      },
      "source": [
        "## The time required to run 10 epochs on LSTM model on CPU: 1673.12 seconds or approximately 27 min."
      ]
    },
    {
      "cell_type": "markdown",
      "metadata": {
        "id": "jwz_R6-ocDGE",
        "colab_type": "text"
      },
      "source": [
        "## The time required to run 10 epochs on LSTM model on GPU: 350.29 seconds or approximately 6 min.\n"
      ]
    },
    {
      "cell_type": "code",
      "metadata": {
        "id": "zHuThwuaRSMt",
        "colab_type": "code",
        "outputId": "2399f3fa-eaff-4c28-e5e1-1d4c7219822c",
        "colab": {
          "base_uri": "https://localhost:8080/",
          "height": 68
        }
      },
      "source": [
        "scores = lstm_model.evaluate(new_x_test_lstm, y_test, verbose=1) # get accuracy score of model\n",
        "print('Test loss:', scores[0])\n",
        "print('Test accuracy:', scores[1])"
      ],
      "execution_count": 0,
      "outputs": [
        {
          "output_type": "stream",
          "text": [
            "10000/10000 [==============================] - 3s 270us/sample - loss: 0.2234 - acc: 0.9140\n",
            "Test loss: 0.2233837486743927\n",
            "Test accuracy: 0.9140498\n"
          ],
          "name": "stdout"
        }
      ]
    },
    {
      "cell_type": "markdown",
      "metadata": {
        "id": "M0-XUviJ5BlG",
        "colab_type": "text"
      },
      "source": [
        "## The accuracy rate of lstm model after 5 epochs is about 91%."
      ]
    },
    {
      "cell_type": "markdown",
      "metadata": {
        "colab_type": "text",
        "id": "bsE9N2WefgnI"
      },
      "source": [
        "# Task 3 (Extra credit, 25 points)\n",
        "Run the above on a TPU and report the time taken to fit the models. "
      ]
    },
    {
      "cell_type": "code",
      "metadata": {
        "id": "9QUf4vmNc26M",
        "colab_type": "code",
        "colab": {}
      },
      "source": [
        "## We have used the same code as in Task 2 above to load and process data:"
      ],
      "execution_count": 0,
      "outputs": []
    },
    {
      "cell_type": "code",
      "metadata": {
        "id": "yBWOSJojxbuk",
        "colab_type": "code",
        "outputId": "cb69f50a-30ab-44a1-c995-c4ba24bc8a89",
        "colab": {
          "base_uri": "https://localhost:8080/",
          "height": 68
        }
      },
      "source": [
        "import tensorflow as tf\n",
        "from tensorflow import keras\n",
        "from keras.preprocessing.image import ImageDataGenerator\n",
        "import matplotlib.pyplot as plt\n",
        "import numpy as np\n",
        "\n",
        "from keras.datasets import cifar10\n",
        "\n",
        "(x_train, y_train), (x_test, y_test) = cifar10.load_data() # load the cifar10 data and split into test and train\n",
        "print('x_train shape:', x_train.shape)\n",
        "\n",
        "print(x_train.shape[0], 'train samples')\n",
        "print(x_test.shape[0], 'test samples')\n",
        "\n",
        "\n",
        "num_classes = len(np.unique(y_train))\n",
        "y_train = keras.utils.to_categorical(y_train, num_classes)\n",
        "y_test = keras.utils.to_categorical(y_test, num_classes)\n",
        "\n",
        "\n",
        "x_test = x_test.astype('float32')\n",
        "x_test /= 255"
      ],
      "execution_count": 0,
      "outputs": [
        {
          "output_type": "stream",
          "text": [
            "x_train shape: (50000, 32, 32, 3)\n",
            "50000 train samples\n",
            "10000 test samples\n"
          ],
          "name": "stdout"
        }
      ]
    },
    {
      "cell_type": "code",
      "metadata": {
        "id": "yzP5iWNG3kAd",
        "colab_type": "code",
        "colab": {}
      },
      "source": [
        "datagen = ImageDataGenerator() # image preprocessing class used for data augmentation\n",
        "x_train_transform = []  # to hold the new transformed training data\n",
        "\n",
        "# create new training data with the augmentation applied on original training data\n",
        "for i in range(len(x_train)):\n",
        "  x_train_image = datagen.apply_transform(x_train[i], {'flip_horizontal':True})  # randomly flip images horizontally\n",
        "  x_train_transform.append(x_train_image) # add the flipped images to the empty list"
      ],
      "execution_count": 0,
      "outputs": []
    },
    {
      "cell_type": "code",
      "metadata": {
        "id": "QGUpmvDCxbph",
        "colab_type": "code",
        "colab": {}
      },
      "source": [
        "# data manipulations\n",
        "\n",
        "new_x_train = np.append(x_train, x_train_transform, axis = 0)\n",
        "new_y_train = np.append(y_train, y_train, axis = 0)\n",
        "\n",
        "new_x_train = np.asarray(new_x_train)\n",
        "new_x_train = new_x_train.astype('float32')\n",
        "new_x_train /= 255"
      ],
      "execution_count": 0,
      "outputs": []
    },
    {
      "cell_type": "code",
      "metadata": {
        "id": "1F0U5IgsGKyq",
        "colab_type": "code",
        "outputId": "18c84e43-793b-4a04-899b-ad4f0769e416",
        "colab": {
          "base_uri": "https://localhost:8080/",
          "height": 34
        }
      },
      "source": [
        "import os\n",
        "try:\n",
        "    device_name = os.environ['COLAB_TPU_ADDR']\n",
        "    TPU_ADDRESS = 'grpc://' + device_name\n",
        "    print('Found TPU at: {}'.format(TPU_ADDRESS))\n",
        "except KeyError:\n",
        "    print('TPU not found')"
      ],
      "execution_count": 0,
      "outputs": [
        {
          "output_type": "stream",
          "text": [
            "Found TPU at: grpc://10.67.18.210:8470\n"
          ],
          "name": "stdout"
        }
      ]
    },
    {
      "cell_type": "code",
      "metadata": {
        "id": "GHN7SOYZyYHc",
        "colab_type": "code",
        "colab": {}
      },
      "source": [
        "# CNN based model\n",
        "def create_model():\n",
        "  model = tf.keras.models.Sequential()\n",
        "  model.add(tf.keras.layers.BatchNormalization(input_shape=x_train.shape[1:]))\n",
        "  model.add(tf.keras.layers.Conv2D(100, (5, 5), padding='same', activation='elu'))\n",
        "  model.add(tf.keras.layers.MaxPooling2D(pool_size=(2, 2)))\n",
        "  model.add(tf.keras.layers.Dropout(0.25))\n",
        "\n",
        "  model.add(tf.keras.layers.BatchNormalization(input_shape=x_train.shape[1:]))\n",
        "  model.add(tf.keras.layers.Conv2D(100, (5, 5), padding='same', activation='elu'))\n",
        "  model.add(tf.keras.layers.MaxPooling2D(pool_size=(2, 2)))\n",
        "  model.add(tf.keras.layers.Dropout(0.25))\n",
        "\n",
        "  model.add(tf.keras.layers.BatchNormalization(input_shape=x_train.shape[1:]))\n",
        "  model.add(tf.keras.layers.Conv2D(100, (5, 5), padding='same', activation='elu'))\n",
        "  model.add(tf.keras.layers.MaxPooling2D(pool_size=(2, 2)))\n",
        "  model.add(tf.keras.layers.Dropout(0.25))\n",
        "  \n",
        "  model.add(tf.keras.layers.BatchNormalization(input_shape=x_train.shape[1:]))\n",
        "  model.add(tf.keras.layers.Conv2D(100, (5, 5), padding='same', activation='elu'))\n",
        "  model.add(tf.keras.layers.MaxPooling2D(pool_size=(2, 2)))\n",
        "  model.add(tf.keras.layers.Dropout(0.25))\n",
        "\n",
        "  model.add(tf.keras.layers.BatchNormalization(input_shape=x_train.shape[1:]))\n",
        "  model.add(tf.keras.layers.Conv2D(100, (5, 5), padding='same', activation='elu'))\n",
        "  model.add(tf.keras.layers.MaxPooling2D(pool_size=(2, 2)))\n",
        "  model.add(tf.keras.layers.Dropout(0.25))\n",
        "\n",
        "\n",
        "  model.add(tf.keras.layers.Flatten())\n",
        "  model.add(tf.keras.layers.Dense(256))\n",
        "  model.add(tf.keras.layers.Activation('elu'))\n",
        "  model.add(tf.keras.layers.Dropout(0.5))\n",
        "  model.add(tf.keras.layers.Dense(10))\n",
        "  model.add(tf.keras.layers.Activation('softmax'))\n",
        "  \n",
        "  return model"
      ],
      "execution_count": 0,
      "outputs": []
    },
    {
      "cell_type": "code",
      "metadata": {
        "id": "tJSOA6zteTVg",
        "colab_type": "code",
        "outputId": "1cd7474c-00f6-4024-86b8-e7022140409b",
        "colab": {
          "base_uri": "https://localhost:8080/",
          "height": 479
        }
      },
      "source": [
        "# Trials on TPU\n",
        "resolver = tf.contrib.cluster_resolver.TPUClusterResolver('grpc://' + os.environ['COLAB_TPU_ADDR'])  # getting a TPU cluster \n",
        "tf.contrib.distribute.initialize_tpu_system(resolver) # initialize TPU system\n",
        "strategy = tf.contrib.distribute.TPUStrategy(resolver) # store it in strategy"
      ],
      "execution_count": 0,
      "outputs": [
        {
          "output_type": "stream",
          "text": [
            "WARNING:tensorflow:\n",
            "The TensorFlow contrib module will not be included in TensorFlow 2.0.\n",
            "For more information, please see:\n",
            "  * https://github.com/tensorflow/community/blob/master/rfcs/20180907-contrib-sunset.md\n",
            "  * https://github.com/tensorflow/addons\n",
            "  * https://github.com/tensorflow/io (for I/O related ops)\n",
            "If you depend on functionality not listed there, please file an issue.\n",
            "\n",
            "INFO:tensorflow:Initializing the TPU system: 10.67.18.210:8470\n",
            "INFO:tensorflow:Finished initializing TPU system.\n",
            "INFO:tensorflow:Querying Tensorflow master (grpc://10.67.18.210:8470) for TPU system metadata.\n",
            "INFO:tensorflow:Found TPU system:\n",
            "INFO:tensorflow:*** Num TPU Cores: 8\n",
            "INFO:tensorflow:*** Num TPU Workers: 1\n",
            "INFO:tensorflow:*** Num TPU Cores Per Worker: 8\n",
            "INFO:tensorflow:*** Available Device: _DeviceAttributes(/job:worker/replica:0/task:0/device:CPU:0, CPU, -1, 16556845473648306136)\n",
            "INFO:tensorflow:*** Available Device: _DeviceAttributes(/job:worker/replica:0/task:0/device:TPU:0, TPU, 17179869184, 16282156845300286650)\n",
            "INFO:tensorflow:*** Available Device: _DeviceAttributes(/job:worker/replica:0/task:0/device:TPU:1, TPU, 17179869184, 815054058883994183)\n",
            "INFO:tensorflow:*** Available Device: _DeviceAttributes(/job:worker/replica:0/task:0/device:TPU:2, TPU, 17179869184, 6715559799627642929)\n",
            "INFO:tensorflow:*** Available Device: _DeviceAttributes(/job:worker/replica:0/task:0/device:TPU:3, TPU, 17179869184, 17271771258434828956)\n",
            "INFO:tensorflow:*** Available Device: _DeviceAttributes(/job:worker/replica:0/task:0/device:TPU:4, TPU, 17179869184, 7631320579140705532)\n",
            "INFO:tensorflow:*** Available Device: _DeviceAttributes(/job:worker/replica:0/task:0/device:TPU:5, TPU, 17179869184, 17626203549712756493)\n",
            "INFO:tensorflow:*** Available Device: _DeviceAttributes(/job:worker/replica:0/task:0/device:TPU:6, TPU, 17179869184, 12164343941079152127)\n",
            "INFO:tensorflow:*** Available Device: _DeviceAttributes(/job:worker/replica:0/task:0/device:TPU:7, TPU, 17179869184, 4382724751894563951)\n",
            "INFO:tensorflow:*** Available Device: _DeviceAttributes(/job:worker/replica:0/task:0/device:TPU_SYSTEM:0, TPU_SYSTEM, 8589934592, 1926119241204404371)\n",
            "INFO:tensorflow:*** Available Device: _DeviceAttributes(/job:worker/replica:0/task:0/device:XLA_CPU:0, XLA_CPU, 17179869184, 11325469159859012502)\n"
          ],
          "name": "stdout"
        }
      ]
    },
    {
      "cell_type": "code",
      "metadata": {
        "id": "0AdzOxTWDh9n",
        "colab_type": "code",
        "outputId": "3fbd71d5-da4e-4fc6-cccb-df1b16b081fe",
        "colab": {
          "base_uri": "https://localhost:8080/",
          "height": 88
        }
      },
      "source": [
        "with strategy.scope():\n",
        "  Model = create_model()  # call the CNN model function\n",
        "  Model.compile(loss = 'categorical_crossentropy',  # use the categorical loss function because of label type\n",
        "                  optimizer=tf.keras.optimizers.RMSprop(), # use the RMS prop optimizer\n",
        "                  metric= ['accuracy']) # retrieve the accuracy score"
      ],
      "execution_count": 0,
      "outputs": [
        {
          "output_type": "stream",
          "text": [
            "WARNING:tensorflow:From /usr/local/lib/python3.6/dist-packages/tensorflow_core/python/ops/resource_variable_ops.py:1630: calling BaseResourceVariable.__init__ (from tensorflow.python.ops.resource_variable_ops) with constraint is deprecated and will be removed in a future version.\n",
            "Instructions for updating:\n",
            "If using Keras pass *_constraint arguments to layers.\n"
          ],
          "name": "stdout"
        }
      ]
    },
    {
      "cell_type": "code",
      "metadata": {
        "id": "qi4gsrnwDgBN",
        "colab_type": "code",
        "outputId": "774e8742-b33c-41e9-a3ba-4ae6d650d708",
        "colab": {
          "base_uri": "https://localhost:8080/",
          "height": 1000
        }
      },
      "source": [
        "import time\n",
        "# measure the time taken to execute the following code block \n",
        "t0 = time.time() \n",
        "Model.fit(new_x_train, new_y_train,  # 100,000 samples of training data\n",
        "          epochs=20, # increase number of epochs for TPU\n",
        "          batch_size=128, # batch size\n",
        "          steps_per_epoch=781, # the number of batch iterations before a training epoch is considered finished\n",
        "          validation_data=(x_test, y_test))\n",
        "t1 = time.time()\n",
        "timeTaken = t1-t0\n",
        "print(\"Total time taken: \" + str(timeTaken) + \" seconds\")"
      ],
      "execution_count": 0,
      "outputs": [
        {
          "output_type": "stream",
          "text": [
            "Epoch 1/20\n",
            "780/781 [============================>.] - ETA: 0s - loss: 0.8844INFO:tensorflow:Running validation at fit epoch: 0\n",
            "79/79 [==============================] - 4s 45ms/step\n",
            "79/79 [==============================] - 4s 45ms/step\n",
            "781/781 [==============================] - 15s 20ms/step - loss: 0.8845 - val_loss: 0.7440\n",
            "Epoch 2/20\n",
            "780/781 [============================>.] - ETA: 0s - loss: 0.7701INFO:tensorflow:Running validation at fit epoch: 1\n",
            "79/79 [==============================] - 4s 45ms/step\n",
            "79/79 [==============================] - 4s 45ms/step\n",
            "781/781 [==============================] - 13s 17ms/step - loss: 0.7698 - val_loss: 0.6462\n",
            "Epoch 3/20\n",
            "779/781 [============================>.] - ETA: 0s - loss: 0.6914INFO:tensorflow:Running validation at fit epoch: 2\n",
            "79/79 [==============================] - 4s 48ms/step\n",
            "79/79 [==============================] - 4s 48ms/step\n",
            "781/781 [==============================] - 14s 18ms/step - loss: 0.6913 - val_loss: 0.5948\n",
            "Epoch 4/20\n",
            "774/781 [============================>.] - ETA: 0s - loss: 0.6381INFO:tensorflow:Running validation at fit epoch: 3\n",
            "79/79 [==============================] - 4s 50ms/step\n",
            "79/79 [==============================] - 4s 50ms/step\n",
            "781/781 [==============================] - 14s 18ms/step - loss: 0.6381 - val_loss: 0.5870\n",
            "Epoch 5/20\n",
            "774/781 [============================>.] - ETA: 0s - loss: 0.6020INFO:tensorflow:Running validation at fit epoch: 4\n",
            "79/79 [==============================] - 4s 55ms/step\n",
            "79/79 [==============================] - 4s 55ms/step\n",
            "781/781 [==============================] - 15s 20ms/step - loss: 0.6014 - val_loss: 0.5426\n",
            "Epoch 6/20\n",
            "779/781 [============================>.] - ETA: 0s - loss: 0.5665INFO:tensorflow:Running validation at fit epoch: 5\n",
            "79/79 [==============================] - 5s 61ms/step\n",
            "79/79 [==============================] - 5s 61ms/step\n",
            "781/781 [==============================] - 17s 21ms/step - loss: 0.5665 - val_loss: 0.5418\n",
            "Epoch 7/20\n",
            "780/781 [============================>.] - ETA: 0s - loss: 0.5346INFO:tensorflow:Running validation at fit epoch: 6\n",
            "79/79 [==============================] - 5s 62ms/step\n",
            "79/79 [==============================] - 5s 62ms/step\n",
            "781/781 [==============================] - 17s 22ms/step - loss: 0.5346 - val_loss: 0.5364\n",
            "Epoch 8/20\n",
            "779/781 [============================>.] - ETA: 0s - loss: 0.5127INFO:tensorflow:Running validation at fit epoch: 7\n",
            "79/79 [==============================] - 5s 64ms/step\n",
            "79/79 [==============================] - 5s 64ms/step\n",
            "781/781 [==============================] - 18s 23ms/step - loss: 0.5124 - val_loss: 0.5074\n",
            "Epoch 9/20\n",
            "776/781 [============================>.] - ETA: 0s - loss: 0.4930INFO:tensorflow:Running validation at fit epoch: 8\n",
            "79/79 [==============================] - 5s 67ms/step\n",
            "79/79 [==============================] - 5s 67ms/step\n",
            "781/781 [==============================] - 19s 24ms/step - loss: 0.4928 - val_loss: 0.5082\n",
            "Epoch 10/20\n",
            "776/781 [============================>.] - ETA: 0s - loss: 0.4717INFO:tensorflow:Running validation at fit epoch: 9\n",
            "79/79 [==============================] - 6s 71ms/step\n",
            "79/79 [==============================] - 6s 71ms/step\n",
            "781/781 [==============================] - 20s 26ms/step - loss: 0.4713 - val_loss: 0.5022\n",
            "Epoch 11/20\n",
            "774/781 [============================>.] - ETA: 0s - loss: 0.4591INFO:tensorflow:Running validation at fit epoch: 10\n",
            "79/79 [==============================] - 6s 79ms/step\n",
            "79/79 [==============================] - 6s 79ms/step\n",
            "781/781 [==============================] - 21s 27ms/step - loss: 0.4587 - val_loss: 0.4907\n",
            "Epoch 12/20\n",
            "780/781 [============================>.] - ETA: 0s - loss: 0.4429INFO:tensorflow:Running validation at fit epoch: 11\n",
            "79/79 [==============================] - 7s 85ms/step\n",
            "79/79 [==============================] - 7s 85ms/step\n",
            "781/781 [==============================] - 23s 29ms/step - loss: 0.4430 - val_loss: 0.5015\n",
            "Epoch 13/20\n",
            "777/781 [============================>.] - ETA: 0s - loss: 0.4318INFO:tensorflow:Running validation at fit epoch: 12\n",
            "79/79 [==============================] - 7s 92ms/step\n",
            "79/79 [==============================] - 7s 92ms/step\n",
            "781/781 [==============================] - 24s 31ms/step - loss: 0.4315 - val_loss: 0.4984\n",
            "Epoch 14/20\n",
            "778/781 [============================>.] - ETA: 0s - loss: 0.4212INFO:tensorflow:Running validation at fit epoch: 13\n",
            "79/79 [==============================] - 7s 92ms/step\n",
            "79/79 [==============================] - 7s 92ms/step\n",
            "781/781 [==============================] - 24s 31ms/step - loss: 0.4212 - val_loss: 0.5134\n",
            "Epoch 15/20\n",
            "777/781 [============================>.] - ETA: 0s - loss: 0.4093INFO:tensorflow:Running validation at fit epoch: 14\n",
            "79/79 [==============================] - 8s 96ms/step\n",
            "79/79 [==============================] - 8s 96ms/step\n",
            "781/781 [==============================] - 26s 33ms/step - loss: 0.4089 - val_loss: 0.4836\n",
            "Epoch 16/20\n",
            "773/781 [============================>.] - ETA: 0s - loss: 0.3993INFO:tensorflow:Running validation at fit epoch: 15\n",
            "79/79 [==============================] - 9s 109ms/step\n",
            "79/79 [==============================] - 9s 109ms/step\n",
            "781/781 [==============================] - 28s 36ms/step - loss: 0.3991 - val_loss: 0.4712\n",
            "Epoch 17/20\n",
            "776/781 [============================>.] - ETA: 0s - loss: 0.3919INFO:tensorflow:Running validation at fit epoch: 16\n",
            "79/79 [==============================] - 8s 107ms/step\n",
            "79/79 [==============================] - 8s 107ms/step\n",
            "781/781 [==============================] - 29s 37ms/step - loss: 0.3920 - val_loss: 0.5048\n",
            "Epoch 18/20\n",
            "779/781 [============================>.] - ETA: 0s - loss: 0.3862INFO:tensorflow:Running validation at fit epoch: 17\n",
            "79/79 [==============================] - 9s 113ms/step\n",
            "79/79 [==============================] - 9s 113ms/step\n",
            "781/781 [==============================] - 30s 38ms/step - loss: 0.3861 - val_loss: 0.4674\n",
            "Epoch 19/20\n",
            "778/781 [============================>.] - ETA: 0s - loss: 0.3738INFO:tensorflow:Running validation at fit epoch: 18\n",
            "79/79 [==============================] - 10s 121ms/step\n",
            "79/79 [==============================] - 10s 121ms/step\n",
            "781/781 [==============================] - 32s 41ms/step - loss: 0.3738 - val_loss: 0.4839\n",
            "Epoch 20/20\n",
            "780/781 [============================>.] - ETA: 0s - loss: 0.3648INFO:tensorflow:Running validation at fit epoch: 19\n",
            "79/79 [==============================] - 10s 131ms/step\n",
            "79/79 [==============================] - 10s 131ms/step\n",
            "781/781 [==============================] - 33s 43ms/step - loss: 0.3648 - val_loss: 0.4775\n",
            "Total time taken: 498.21189618110657 seconds\n"
          ],
          "name": "stdout"
        }
      ]
    },
    {
      "cell_type": "markdown",
      "metadata": {
        "id": "FpkfgPpNQOii",
        "colab_type": "text"
      },
      "source": [
        ""
      ]
    },
    {
      "cell_type": "markdown",
      "metadata": {
        "id": "c_4uoD8rQTIV",
        "colab_type": "text"
      },
      "source": [
        "## The time required to run 20 epochs on CNN model on TPU: 498.21 seconds or approximately 8 min."
      ]
    },
    {
      "cell_type": "code",
      "metadata": {
        "id": "9zGb9MYbEMPX",
        "colab_type": "code",
        "colab": {}
      },
      "source": [
        "def create_lstm_model(): \n",
        "  lstm_model = tf.keras.models.Sequential() # again use sequential model to stack layers\n",
        "  # 1024 units, return sequence true: return one output for each input time step and provide a 3D array\n",
        "  lstm_model.add(tf.keras.layers.LSTM(1024,input_shape=new_x_train_lstm.shape[1:],return_sequences=True)) \n",
        "\n",
        "  lstm_model.add(tf.keras.layers.LSTM(1024)) # second layer \n",
        "\n",
        "  lstm_model.add(keras.layers.Dense(10, activation='sigmoid')) # 10 labels in the first layer and use sigmoid function\n",
        "\n",
        "  return lstm_model"
      ],
      "execution_count": 0,
      "outputs": []
    },
    {
      "cell_type": "code",
      "metadata": {
        "id": "mbaHGNw1E38e",
        "colab_type": "code",
        "colab": {}
      },
      "source": [
        "# data reshaphing: flatten then reshape the x data to 3 dimensions so that it can be passed in the LSTM model\n",
        "new_x_train_lstm = np.asarray(new_x_train.flatten()).reshape(100000,1,3072)\n",
        "new_x_test_lstm = np.asarray(x_test.flatten()).reshape(10000,1,3072)"
      ],
      "execution_count": 0,
      "outputs": []
    },
    {
      "cell_type": "code",
      "metadata": {
        "id": "CqqiigzpEeG6",
        "colab_type": "code",
        "colab": {}
      },
      "source": [
        "with strategy.scope():\n",
        "  lstm_Model = create_lstm_model()\n",
        "  lstm_Model.compile(optimizer=tf.keras.optimizers.RMSprop(), loss='categorical_crossentropy', metrics=['accuracy'])"
      ],
      "execution_count": 0,
      "outputs": []
    },
    {
      "cell_type": "code",
      "metadata": {
        "id": "Cfju5pbzEeMW",
        "colab_type": "code",
        "outputId": "2c7732f5-670b-42f1-bc3c-f7d136ce8f2f",
        "colab": {
          "base_uri": "https://localhost:8080/",
          "height": 884
        }
      },
      "source": [
        "import time\n",
        "t0 = time.time()\n",
        "lstm_Model.fit(new_x_train_lstm, new_y_train,\n",
        "              batch_size=64,\n",
        "              epochs=10,\n",
        "              steps_per_epoch=1562, \n",
        "              validation_data=(new_x_test_lstm, y_test),\n",
        "              shuffle=True)\n",
        "t1 = time.time()\n",
        "timeTaken = t1-t0\n",
        "print(\"Total time taken: \" + str(timeTaken) + \" seconds\")"
      ],
      "execution_count": 0,
      "outputs": [
        {
          "output_type": "stream",
          "text": [
            "Epoch 1/10\n",
            "1558/1562 [============================>.] - ETA: 0s - loss: 1.8689 - acc: 0.3210INFO:tensorflow:Running validation at fit epoch: 0\n",
            "157/157 [==============================] - 38s 244ms/step\n",
            "157/157 [==============================] - 38s 244ms/step\n",
            "1562/1562 [==============================] - 88s 57ms/step - loss: 1.8686 - acc: 0.3211 - val_loss: 1.7182 - val_acc: 0.3964\n",
            "Epoch 2/10\n",
            "1560/1562 [============================>.] - ETA: 0s - loss: 1.6667 - acc: 0.4025INFO:tensorflow:Running validation at fit epoch: 1\n",
            "157/157 [==============================] - 43s 277ms/step\n",
            "157/157 [==============================] - 43s 277ms/step\n",
            "1562/1562 [==============================] - 90s 57ms/step - loss: 1.6665 - acc: 0.4025 - val_loss: 1.5854 - val_acc: 0.4305\n",
            "Epoch 3/10\n",
            "1559/1562 [============================>.] - ETA: 0s - loss: 1.5893 - acc: 0.4305INFO:tensorflow:Running validation at fit epoch: 2\n",
            "157/157 [==============================] - 46s 296ms/step\n",
            "157/157 [==============================] - 46s 296ms/step\n",
            "1562/1562 [==============================] - 94s 60ms/step - loss: 1.5893 - acc: 0.4305 - val_loss: 1.6158 - val_acc: 0.4131\n",
            "Epoch 4/10\n",
            "1559/1562 [============================>.] - ETA: 0s - loss: 1.5354 - acc: 0.4513INFO:tensorflow:Running validation at fit epoch: 3\n",
            "157/157 [==============================] - 51s 327ms/step\n",
            "157/157 [==============================] - 51s 327ms/step\n",
            "1562/1562 [==============================] - 100s 64ms/step - loss: 1.5356 - acc: 0.4512 - val_loss: nan - val_acc: 0.4158\n",
            "Epoch 5/10\n",
            "1560/1562 [============================>.] - ETA: 0s - loss: 1.5003 - acc: 0.4626INFO:tensorflow:Running validation at fit epoch: 4\n",
            "157/157 [==============================] - 56s 357ms/step\n",
            "157/157 [==============================] - 56s 357ms/step\n",
            "1562/1562 [==============================] - 109s 70ms/step - loss: 1.5002 - acc: 0.4627 - val_loss: nan - val_acc: 0.4722\n",
            "Epoch 6/10\n",
            "1560/1562 [============================>.] - ETA: 0s - loss: 1.4783 - acc: 0.4731INFO:tensorflow:Running validation at fit epoch: 5\n",
            "157/157 [==============================] - 62s 396ms/step\n",
            "157/157 [==============================] - 62s 396ms/step\n",
            "1562/1562 [==============================] - 117s 75ms/step - loss: 1.4783 - acc: 0.4731 - val_loss: nan - val_acc: 0.4487\n",
            "Epoch 7/10\n",
            "1559/1562 [============================>.] - ETA: 0s - loss: nan - acc: 0.1159INFO:tensorflow:Running validation at fit epoch: 6\n",
            "157/157 [==============================] - 68s 431ms/step\n",
            "157/157 [==============================] - 68s 431ms/step\n",
            "1562/1562 [==============================] - 125s 80ms/step - loss: nan - acc: 0.1158 - val_loss: nan - val_acc: 0.1000\n",
            "Epoch 8/10\n",
            "1560/1562 [============================>.] - ETA: 0s - loss: nan - acc: 0.1001INFO:tensorflow:Running validation at fit epoch: 7\n",
            "157/157 [==============================] - 73s 467ms/step\n",
            "157/157 [==============================] - 73s 467ms/step\n",
            "1562/1562 [==============================] - 137s 87ms/step - loss: nan - acc: 0.1001 - val_loss: nan - val_acc: 0.1000\n",
            "Epoch 9/10\n",
            "1559/1562 [============================>.] - ETA: 0s - loss: nan - acc: 0.1000INFO:tensorflow:Running validation at fit epoch: 8\n",
            "157/157 [==============================] - 80s 508ms/step\n",
            "157/157 [==============================] - 80s 508ms/step\n",
            "1562/1562 [==============================] - 146s 94ms/step - loss: nan - acc: 0.1000 - val_loss: nan - val_acc: 0.1000\n",
            "Epoch 10/10\n",
            "1561/1562 [============================>.] - ETA: 0s - loss: nan - acc: 0.1000INFO:tensorflow:Running validation at fit epoch: 9\n",
            "157/157 [==============================] - 87s 555ms/step\n",
            "157/157 [==============================] - 87s 555ms/step\n",
            "1562/1562 [==============================] - 158s 101ms/step - loss: nan - acc: 0.1000 - val_loss: nan - val_acc: 0.1000\n",
            "Total time taken: 1352.4906764030457 seconds\n"
          ],
          "name": "stdout"
        }
      ]
    },
    {
      "cell_type": "markdown",
      "metadata": {
        "id": "VGkpyp5sQ_eG",
        "colab_type": "text"
      },
      "source": [
        "## The time required to run LSTM model on TPU: 1352.49 seconds or approximately 22 minutes."
      ]
    },
    {
      "cell_type": "markdown",
      "metadata": {
        "id": "3-1XV2BJd_UT",
        "colab_type": "text"
      },
      "source": [
        "### *LE FIN*."
      ]
    }
  ]
}